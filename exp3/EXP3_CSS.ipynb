{
  "nbformat": 4,
  "nbformat_minor": 0,
  "metadata": {
    "colab": {
      "name": "EXP3_CSS.ipynb",
      "provenance": [],
      "collapsed_sections": [],
      "authorship_tag": "ABX9TyMQI1QQ/CULenOsKkxorbKg",
      "include_colab_link": true
    },
    "kernelspec": {
      "name": "python3",
      "display_name": "Python 3"
    },
    "language_info": {
      "name": "python"
    }
  },
  "cells": [
    {
      "cell_type": "markdown",
      "metadata": {
        "id": "view-in-github",
        "colab_type": "text"
      },
      "source": [
        "<a href=\"https://colab.research.google.com/github/mansidw/CSS_Lab/blob/main/EXP3_CSS.ipynb\" target=\"_parent\"><img src=\"https://colab.research.google.com/assets/colab-badge.svg\" alt=\"Open In Colab\"/></a>"
      ]
    },
    {
      "cell_type": "code",
      "metadata": {
        "id": "8c-IipdVeBM_"
      },
      "source": [
        "#task 5 code\n",
        "from Crypto.Cipher import AES\n",
        "from Crypto.Util.Padding import pad\n",
        "\n",
        "plaintText = b\"This is a top secret.\"\n",
        "cipherText = \"8d20e5056a8d24d0462ce74e4904c1b513e10d1df4a2ef2ad4540fae1ca0aaf9\"\n",
        "\n",
        "myFile = open('engwords.txt', 'r')\n",
        "lines = myFile.readlines()\n",
        "words = [str.strip(line) for line in lines]\n",
        "arr = []\n",
        "for word in words:\n",
        "  if len(word)<16:\n",
        "    word=word.lower()\n",
        "    key=word.encode()+b' '*(16-len(word))\n",
        "    getCipher=AES.new(key, AES.MODE_CBC, iv=bytes.fromhex('0'*32))\n",
        "    ciphertext=getCipher.encrypt(pad(plaintText, AES.block_size))\n",
        "    match=\"👎\" \n",
        "    if bytes.hex(ciphertext)==cipherText:\n",
        "      match=\"👍\"\n",
        "      arr.append(word)\n",
        "    print(word,match)\n",
        "print(\"\\n\\nThe final key is :\",arr)"
      ],
      "execution_count": null,
      "outputs": []
    },
    {
      "cell_type": "code",
      "metadata": {
        "colab": {
          "base_uri": "https://localhost:8080/"
        },
        "id": "hno0H3L2e2Vw",
        "outputId": "f6bdc627-2b58-4a62-db50-1da296c664e1"
      },
      "source": [
        "pip install pycryptodome\n"
      ],
      "execution_count": null,
      "outputs": [
        {
          "output_type": "stream",
          "name": "stdout",
          "text": [
            "Collecting pycryptodome\n",
            "  Downloading pycryptodome-3.11.0-cp35-abi3-manylinux2010_x86_64.whl (1.9 MB)\n",
            "\u001b[?25l\r\u001b[K     |▏                               | 10 kB 28.3 MB/s eta 0:00:01\r\u001b[K     |▍                               | 20 kB 31.2 MB/s eta 0:00:01\r\u001b[K     |▌                               | 30 kB 35.2 MB/s eta 0:00:01\r\u001b[K     |▊                               | 40 kB 32.2 MB/s eta 0:00:01\r\u001b[K     |▉                               | 51 kB 29.7 MB/s eta 0:00:01\r\u001b[K     |█                               | 61 kB 30.7 MB/s eta 0:00:01\r\u001b[K     |█▏                              | 71 kB 30.8 MB/s eta 0:00:01\r\u001b[K     |█▍                              | 81 kB 30.9 MB/s eta 0:00:01\r\u001b[K     |█▌                              | 92 kB 32.7 MB/s eta 0:00:01\r\u001b[K     |█▊                              | 102 kB 31.7 MB/s eta 0:00:01\r\u001b[K     |█▉                              | 112 kB 31.7 MB/s eta 0:00:01\r\u001b[K     |██                              | 122 kB 31.7 MB/s eta 0:00:01\r\u001b[K     |██▏                             | 133 kB 31.7 MB/s eta 0:00:01\r\u001b[K     |██▍                             | 143 kB 31.7 MB/s eta 0:00:01\r\u001b[K     |██▌                             | 153 kB 31.7 MB/s eta 0:00:01\r\u001b[K     |██▊                             | 163 kB 31.7 MB/s eta 0:00:01\r\u001b[K     |██▉                             | 174 kB 31.7 MB/s eta 0:00:01\r\u001b[K     |███                             | 184 kB 31.7 MB/s eta 0:00:01\r\u001b[K     |███▏                            | 194 kB 31.7 MB/s eta 0:00:01\r\u001b[K     |███▍                            | 204 kB 31.7 MB/s eta 0:00:01\r\u001b[K     |███▌                            | 215 kB 31.7 MB/s eta 0:00:01\r\u001b[K     |███▊                            | 225 kB 31.7 MB/s eta 0:00:01\r\u001b[K     |███▉                            | 235 kB 31.7 MB/s eta 0:00:01\r\u001b[K     |████                            | 245 kB 31.7 MB/s eta 0:00:01\r\u001b[K     |████▏                           | 256 kB 31.7 MB/s eta 0:00:01\r\u001b[K     |████▍                           | 266 kB 31.7 MB/s eta 0:00:01\r\u001b[K     |████▋                           | 276 kB 31.7 MB/s eta 0:00:01\r\u001b[K     |████▊                           | 286 kB 31.7 MB/s eta 0:00:01\r\u001b[K     |█████                           | 296 kB 31.7 MB/s eta 0:00:01\r\u001b[K     |█████                           | 307 kB 31.7 MB/s eta 0:00:01\r\u001b[K     |█████▎                          | 317 kB 31.7 MB/s eta 0:00:01\r\u001b[K     |█████▍                          | 327 kB 31.7 MB/s eta 0:00:01\r\u001b[K     |█████▋                          | 337 kB 31.7 MB/s eta 0:00:01\r\u001b[K     |█████▊                          | 348 kB 31.7 MB/s eta 0:00:01\r\u001b[K     |██████                          | 358 kB 31.7 MB/s eta 0:00:01\r\u001b[K     |██████                          | 368 kB 31.7 MB/s eta 0:00:01\r\u001b[K     |██████▎                         | 378 kB 31.7 MB/s eta 0:00:01\r\u001b[K     |██████▍                         | 389 kB 31.7 MB/s eta 0:00:01\r\u001b[K     |██████▋                         | 399 kB 31.7 MB/s eta 0:00:01\r\u001b[K     |██████▊                         | 409 kB 31.7 MB/s eta 0:00:01\r\u001b[K     |███████                         | 419 kB 31.7 MB/s eta 0:00:01\r\u001b[K     |███████                         | 430 kB 31.7 MB/s eta 0:00:01\r\u001b[K     |███████▎                        | 440 kB 31.7 MB/s eta 0:00:01\r\u001b[K     |███████▍                        | 450 kB 31.7 MB/s eta 0:00:01\r\u001b[K     |███████▋                        | 460 kB 31.7 MB/s eta 0:00:01\r\u001b[K     |███████▊                        | 471 kB 31.7 MB/s eta 0:00:01\r\u001b[K     |████████                        | 481 kB 31.7 MB/s eta 0:00:01\r\u001b[K     |████████                        | 491 kB 31.7 MB/s eta 0:00:01\r\u001b[K     |████████▎                       | 501 kB 31.7 MB/s eta 0:00:01\r\u001b[K     |████████▍                       | 512 kB 31.7 MB/s eta 0:00:01\r\u001b[K     |████████▋                       | 522 kB 31.7 MB/s eta 0:00:01\r\u001b[K     |████████▊                       | 532 kB 31.7 MB/s eta 0:00:01\r\u001b[K     |█████████                       | 542 kB 31.7 MB/s eta 0:00:01\r\u001b[K     |█████████▏                      | 552 kB 31.7 MB/s eta 0:00:01\r\u001b[K     |█████████▎                      | 563 kB 31.7 MB/s eta 0:00:01\r\u001b[K     |█████████▌                      | 573 kB 31.7 MB/s eta 0:00:01\r\u001b[K     |█████████▋                      | 583 kB 31.7 MB/s eta 0:00:01\r\u001b[K     |█████████▉                      | 593 kB 31.7 MB/s eta 0:00:01\r\u001b[K     |██████████                      | 604 kB 31.7 MB/s eta 0:00:01\r\u001b[K     |██████████▏                     | 614 kB 31.7 MB/s eta 0:00:01\r\u001b[K     |██████████▎                     | 624 kB 31.7 MB/s eta 0:00:01\r\u001b[K     |██████████▌                     | 634 kB 31.7 MB/s eta 0:00:01\r\u001b[K     |██████████▋                     | 645 kB 31.7 MB/s eta 0:00:01\r\u001b[K     |██████████▉                     | 655 kB 31.7 MB/s eta 0:00:01\r\u001b[K     |███████████                     | 665 kB 31.7 MB/s eta 0:00:01\r\u001b[K     |███████████▏                    | 675 kB 31.7 MB/s eta 0:00:01\r\u001b[K     |███████████▎                    | 686 kB 31.7 MB/s eta 0:00:01\r\u001b[K     |███████████▌                    | 696 kB 31.7 MB/s eta 0:00:01\r\u001b[K     |███████████▋                    | 706 kB 31.7 MB/s eta 0:00:01\r\u001b[K     |███████████▉                    | 716 kB 31.7 MB/s eta 0:00:01\r\u001b[K     |████████████                    | 727 kB 31.7 MB/s eta 0:00:01\r\u001b[K     |████████████▏                   | 737 kB 31.7 MB/s eta 0:00:01\r\u001b[K     |████████████▎                   | 747 kB 31.7 MB/s eta 0:00:01\r\u001b[K     |████████████▌                   | 757 kB 31.7 MB/s eta 0:00:01\r\u001b[K     |████████████▋                   | 768 kB 31.7 MB/s eta 0:00:01\r\u001b[K     |████████████▉                   | 778 kB 31.7 MB/s eta 0:00:01\r\u001b[K     |█████████████                   | 788 kB 31.7 MB/s eta 0:00:01\r\u001b[K     |█████████████▏                  | 798 kB 31.7 MB/s eta 0:00:01\r\u001b[K     |█████████████▎                  | 808 kB 31.7 MB/s eta 0:00:01\r\u001b[K     |█████████████▌                  | 819 kB 31.7 MB/s eta 0:00:01\r\u001b[K     |█████████████▊                  | 829 kB 31.7 MB/s eta 0:00:01\r\u001b[K     |█████████████▉                  | 839 kB 31.7 MB/s eta 0:00:01\r\u001b[K     |██████████████                  | 849 kB 31.7 MB/s eta 0:00:01\r\u001b[K     |██████████████▏                 | 860 kB 31.7 MB/s eta 0:00:01\r\u001b[K     |██████████████▍                 | 870 kB 31.7 MB/s eta 0:00:01\r\u001b[K     |██████████████▌                 | 880 kB 31.7 MB/s eta 0:00:01\r\u001b[K     |██████████████▊                 | 890 kB 31.7 MB/s eta 0:00:01\r\u001b[K     |██████████████▉                 | 901 kB 31.7 MB/s eta 0:00:01\r\u001b[K     |███████████████                 | 911 kB 31.7 MB/s eta 0:00:01\r\u001b[K     |███████████████▏                | 921 kB 31.7 MB/s eta 0:00:01\r\u001b[K     |███████████████▍                | 931 kB 31.7 MB/s eta 0:00:01\r\u001b[K     |███████████████▌                | 942 kB 31.7 MB/s eta 0:00:01\r\u001b[K     |███████████████▊                | 952 kB 31.7 MB/s eta 0:00:01\r\u001b[K     |███████████████▉                | 962 kB 31.7 MB/s eta 0:00:01\r\u001b[K     |████████████████                | 972 kB 31.7 MB/s eta 0:00:01\r\u001b[K     |████████████████▏               | 983 kB 31.7 MB/s eta 0:00:01\r\u001b[K     |████████████████▍               | 993 kB 31.7 MB/s eta 0:00:01\r\u001b[K     |████████████████▌               | 1.0 MB 31.7 MB/s eta 0:00:01\r\u001b[K     |████████████████▊               | 1.0 MB 31.7 MB/s eta 0:00:01\r\u001b[K     |████████████████▉               | 1.0 MB 31.7 MB/s eta 0:00:01\r\u001b[K     |█████████████████               | 1.0 MB 31.7 MB/s eta 0:00:01\r\u001b[K     |█████████████████▏              | 1.0 MB 31.7 MB/s eta 0:00:01\r\u001b[K     |█████████████████▍              | 1.1 MB 31.7 MB/s eta 0:00:01\r\u001b[K     |█████████████████▌              | 1.1 MB 31.7 MB/s eta 0:00:01\r\u001b[K     |█████████████████▊              | 1.1 MB 31.7 MB/s eta 0:00:01\r\u001b[K     |█████████████████▉              | 1.1 MB 31.7 MB/s eta 0:00:01\r\u001b[K     |██████████████████              | 1.1 MB 31.7 MB/s eta 0:00:01\r\u001b[K     |██████████████████▎             | 1.1 MB 31.7 MB/s eta 0:00:01\r\u001b[K     |██████████████████▍             | 1.1 MB 31.7 MB/s eta 0:00:01\r\u001b[K     |██████████████████▋             | 1.1 MB 31.7 MB/s eta 0:00:01\r\u001b[K     |██████████████████▊             | 1.1 MB 31.7 MB/s eta 0:00:01\r\u001b[K     |███████████████████             | 1.1 MB 31.7 MB/s eta 0:00:01\r\u001b[K     |███████████████████             | 1.2 MB 31.7 MB/s eta 0:00:01\r\u001b[K     |███████████████████▎            | 1.2 MB 31.7 MB/s eta 0:00:01\r\u001b[K     |███████████████████▍            | 1.2 MB 31.7 MB/s eta 0:00:01\r\u001b[K     |███████████████████▋            | 1.2 MB 31.7 MB/s eta 0:00:01\r\u001b[K     |███████████████████▊            | 1.2 MB 31.7 MB/s eta 0:00:01\r\u001b[K     |████████████████████            | 1.2 MB 31.7 MB/s eta 0:00:01\r\u001b[K     |████████████████████            | 1.2 MB 31.7 MB/s eta 0:00:01\r\u001b[K     |████████████████████▎           | 1.2 MB 31.7 MB/s eta 0:00:01\r\u001b[K     |████████████████████▍           | 1.2 MB 31.7 MB/s eta 0:00:01\r\u001b[K     |████████████████████▋           | 1.2 MB 31.7 MB/s eta 0:00:01\r\u001b[K     |████████████████████▊           | 1.3 MB 31.7 MB/s eta 0:00:01\r\u001b[K     |█████████████████████           | 1.3 MB 31.7 MB/s eta 0:00:01\r\u001b[K     |█████████████████████           | 1.3 MB 31.7 MB/s eta 0:00:01\r\u001b[K     |█████████████████████▎          | 1.3 MB 31.7 MB/s eta 0:00:01\r\u001b[K     |█████████████████████▍          | 1.3 MB 31.7 MB/s eta 0:00:01\r\u001b[K     |█████████████████████▋          | 1.3 MB 31.7 MB/s eta 0:00:01\r\u001b[K     |█████████████████████▊          | 1.3 MB 31.7 MB/s eta 0:00:01\r\u001b[K     |██████████████████████          | 1.3 MB 31.7 MB/s eta 0:00:01\r\u001b[K     |██████████████████████          | 1.3 MB 31.7 MB/s eta 0:00:01\r\u001b[K     |██████████████████████▎         | 1.4 MB 31.7 MB/s eta 0:00:01\r\u001b[K     |██████████████████████▍         | 1.4 MB 31.7 MB/s eta 0:00:01\r\u001b[K     |██████████████████████▋         | 1.4 MB 31.7 MB/s eta 0:00:01\r\u001b[K     |██████████████████████▉         | 1.4 MB 31.7 MB/s eta 0:00:01\r\u001b[K     |███████████████████████         | 1.4 MB 31.7 MB/s eta 0:00:01\r\u001b[K     |███████████████████████▏        | 1.4 MB 31.7 MB/s eta 0:00:01\r\u001b[K     |███████████████████████▎        | 1.4 MB 31.7 MB/s eta 0:00:01\r\u001b[K     |███████████████████████▌        | 1.4 MB 31.7 MB/s eta 0:00:01\r\u001b[K     |███████████████████████▋        | 1.4 MB 31.7 MB/s eta 0:00:01\r\u001b[K     |███████████████████████▉        | 1.4 MB 31.7 MB/s eta 0:00:01\r\u001b[K     |████████████████████████        | 1.5 MB 31.7 MB/s eta 0:00:01\r\u001b[K     |████████████████████████▏       | 1.5 MB 31.7 MB/s eta 0:00:01\r\u001b[K     |████████████████████████▎       | 1.5 MB 31.7 MB/s eta 0:00:01\r\u001b[K     |████████████████████████▌       | 1.5 MB 31.7 MB/s eta 0:00:01\r\u001b[K     |████████████████████████▋       | 1.5 MB 31.7 MB/s eta 0:00:01\r\u001b[K     |████████████████████████▉       | 1.5 MB 31.7 MB/s eta 0:00:01\r\u001b[K     |█████████████████████████       | 1.5 MB 31.7 MB/s eta 0:00:01\r\u001b[K     |█████████████████████████▏      | 1.5 MB 31.7 MB/s eta 0:00:01\r\u001b[K     |█████████████████████████▎      | 1.5 MB 31.7 MB/s eta 0:00:01\r\u001b[K     |█████████████████████████▌      | 1.5 MB 31.7 MB/s eta 0:00:01\r\u001b[K     |█████████████████████████▋      | 1.6 MB 31.7 MB/s eta 0:00:01\r\u001b[K     |█████████████████████████▉      | 1.6 MB 31.7 MB/s eta 0:00:01\r\u001b[K     |██████████████████████████      | 1.6 MB 31.7 MB/s eta 0:00:01\r\u001b[K     |██████████████████████████▏     | 1.6 MB 31.7 MB/s eta 0:00:01\r\u001b[K     |██████████████████████████▎     | 1.6 MB 31.7 MB/s eta 0:00:01\r\u001b[K     |██████████████████████████▌     | 1.6 MB 31.7 MB/s eta 0:00:01\r\u001b[K     |██████████████████████████▋     | 1.6 MB 31.7 MB/s eta 0:00:01\r\u001b[K     |██████████████████████████▉     | 1.6 MB 31.7 MB/s eta 0:00:01\r\u001b[K     |███████████████████████████     | 1.6 MB 31.7 MB/s eta 0:00:01\r\u001b[K     |███████████████████████████▏    | 1.6 MB 31.7 MB/s eta 0:00:01\r\u001b[K     |███████████████████████████▍    | 1.7 MB 31.7 MB/s eta 0:00:01\r\u001b[K     |███████████████████████████▌    | 1.7 MB 31.7 MB/s eta 0:00:01\r\u001b[K     |███████████████████████████▊    | 1.7 MB 31.7 MB/s eta 0:00:01\r\u001b[K     |███████████████████████████▉    | 1.7 MB 31.7 MB/s eta 0:00:01\r\u001b[K     |████████████████████████████    | 1.7 MB 31.7 MB/s eta 0:00:01\r\u001b[K     |████████████████████████████▏   | 1.7 MB 31.7 MB/s eta 0:00:01\r\u001b[K     |████████████████████████████▍   | 1.7 MB 31.7 MB/s eta 0:00:01\r\u001b[K     |████████████████████████████▌   | 1.7 MB 31.7 MB/s eta 0:00:01\r\u001b[K     |████████████████████████████▊   | 1.7 MB 31.7 MB/s eta 0:00:01\r\u001b[K     |████████████████████████████▉   | 1.8 MB 31.7 MB/s eta 0:00:01\r\u001b[K     |█████████████████████████████   | 1.8 MB 31.7 MB/s eta 0:00:01\r\u001b[K     |█████████████████████████████▏  | 1.8 MB 31.7 MB/s eta 0:00:01\r\u001b[K     |█████████████████████████████▍  | 1.8 MB 31.7 MB/s eta 0:00:01\r\u001b[K     |█████████████████████████████▌  | 1.8 MB 31.7 MB/s eta 0:00:01\r\u001b[K     |█████████████████████████████▊  | 1.8 MB 31.7 MB/s eta 0:00:01\r\u001b[K     |█████████████████████████████▉  | 1.8 MB 31.7 MB/s eta 0:00:01\r\u001b[K     |██████████████████████████████  | 1.8 MB 31.7 MB/s eta 0:00:01\r\u001b[K     |██████████████████████████████▏ | 1.8 MB 31.7 MB/s eta 0:00:01\r\u001b[K     |██████████████████████████████▍ | 1.8 MB 31.7 MB/s eta 0:00:01\r\u001b[K     |██████████████████████████████▌ | 1.9 MB 31.7 MB/s eta 0:00:01\r\u001b[K     |██████████████████████████████▊ | 1.9 MB 31.7 MB/s eta 0:00:01\r\u001b[K     |██████████████████████████████▉ | 1.9 MB 31.7 MB/s eta 0:00:01\r\u001b[K     |███████████████████████████████ | 1.9 MB 31.7 MB/s eta 0:00:01\r\u001b[K     |███████████████████████████████▏| 1.9 MB 31.7 MB/s eta 0:00:01\r\u001b[K     |███████████████████████████████▍| 1.9 MB 31.7 MB/s eta 0:00:01\r\u001b[K     |███████████████████████████████▌| 1.9 MB 31.7 MB/s eta 0:00:01\r\u001b[K     |███████████████████████████████▊| 1.9 MB 31.7 MB/s eta 0:00:01\r\u001b[K     |████████████████████████████████| 1.9 MB 31.7 MB/s eta 0:00:01\r\u001b[K     |████████████████████████████████| 1.9 MB 31.7 MB/s \n",
            "\u001b[?25hInstalling collected packages: pycryptodome\n",
            "Successfully installed pycryptodome-3.11.0\n"
          ]
        }
      ]
    }
  ]
}